{
 "cells": [
  {
   "cell_type": "markdown",
   "metadata": {},
   "source": [
    "# LDA\n",
    "John Rodriguez, 2020-02-27"
   ]
  },
  {
   "cell_type": "code",
   "execution_count": 1,
   "metadata": {},
   "outputs": [],
   "source": [
    "logan_path = '../../../'\n",
    "import sys\n",
    "sys.path.append(logan_path)\n",
    "from parlogan.obs import OBs_between\n",
    "from parlogan.info import error_counting\n",
    "from parlogan.db.es import EmptyElasticQuery\n",
    "from parlogan.color import paranal\n",
    "import pandas as pd"
   ]
  },
  {
   "cell_type": "code",
   "execution_count": 41,
   "metadata": {},
   "outputs": [],
   "source": [
    "from gensim.utils import simple_preprocess\n",
    "from gensim.corpora import Dictionary\n",
    "from gensim.models import TfidfModel, LdaMulticore\n",
    "from sklearn.model_selection import train_test_split\n",
    "from numpy.random import seed\n",
    "seed(2020)"
   ]
  },
  {
   "cell_type": "markdown",
   "metadata": {},
   "source": [
    "## Getting the OBs"
   ]
  },
  {
   "cell_type": "code",
   "execution_count": 36,
   "metadata": {},
   "outputs": [],
   "source": [
    "end = pd.to_datetime('2020-02-24 00:00')\n",
    "start = end - pd.Timedelta('15 day')\n",
    "instr = 'GRAVITY'\n",
    "OBs = OBs_between(instr, start, end)"
   ]
  },
  {
   "cell_type": "code",
   "execution_count": 37,
   "metadata": {
    "scrolled": false
   },
   "outputs": [
    {
     "data": {
      "text/html": [
       "<div>\n",
       "<style scoped>\n",
       "    .dataframe tbody tr th:only-of-type {\n",
       "        vertical-align: middle;\n",
       "    }\n",
       "\n",
       "    .dataframe tbody tr th {\n",
       "        vertical-align: top;\n",
       "    }\n",
       "\n",
       "    .dataframe thead th {\n",
       "        text-align: right;\n",
       "    }\n",
       "</style>\n",
       "<table border=\"1\" class=\"dataframe\">\n",
       "  <thead>\n",
       "    <tr style=\"text-align: right;\">\n",
       "      <th></th>\n",
       "      <th>pauses</th>\n",
       "      <th>OBS.NAME</th>\n",
       "      <th>OBS.ID</th>\n",
       "      <th>ACK ABORT</th>\n",
       "      <th>Aborted</th>\n",
       "      <th>START</th>\n",
       "      <th>END</th>\n",
       "      <th>Seconds</th>\n",
       "      <th>End_with_error</th>\n",
       "    </tr>\n",
       "  </thead>\n",
       "  <tbody>\n",
       "    <tr>\n",
       "      <th>0</th>\n",
       "      <td>0</td>\n",
       "      <td>M05_HD18071_MED_SPLIT</td>\n",
       "      <td>200453530</td>\n",
       "      <td>False</td>\n",
       "      <td>True</td>\n",
       "      <td>2020-02-09 00:11:11.199000+00:00</td>\n",
       "      <td>2020-02-09 00:12:29.870000+00:00</td>\n",
       "      <td>43</td>\n",
       "      <td>True</td>\n",
       "    </tr>\n",
       "    <tr>\n",
       "      <th>1</th>\n",
       "      <td>0</td>\n",
       "      <td>M05_HD18071_MED_SPLIT</td>\n",
       "      <td>200453530</td>\n",
       "      <td>False</td>\n",
       "      <td>True</td>\n",
       "      <td>2020-02-09 00:13:35.005000+00:00</td>\n",
       "      <td>2020-02-09 00:13:46.716000+00:00</td>\n",
       "      <td>4</td>\n",
       "      <td>True</td>\n",
       "    </tr>\n",
       "    <tr>\n",
       "      <th>2</th>\n",
       "      <td>0</td>\n",
       "      <td>M05_HD18071_MED_SPLIT</td>\n",
       "      <td>200453530</td>\n",
       "      <td>False</td>\n",
       "      <td>False</td>\n",
       "      <td>2020-02-09 00:23:48.533000+00:00</td>\n",
       "      <td>2020-02-09 00:46:42.482000+00:00</td>\n",
       "      <td>1374</td>\n",
       "      <td>False</td>\n",
       "    </tr>\n",
       "    <tr>\n",
       "      <th>3</th>\n",
       "      <td>0</td>\n",
       "      <td>M05_HD28625_MED_SPLIT</td>\n",
       "      <td>200454133</td>\n",
       "      <td>False</td>\n",
       "      <td>False</td>\n",
       "      <td>2020-02-09 00:52:23.640000+00:00</td>\n",
       "      <td>2020-02-09 01:05:07.438000+00:00</td>\n",
       "      <td>764</td>\n",
       "      <td>False</td>\n",
       "    </tr>\n",
       "    <tr>\n",
       "      <th>4</th>\n",
       "      <td>0</td>\n",
       "      <td>B02_HD62902_MED_SPLIT</td>\n",
       "      <td>200452405</td>\n",
       "      <td>True</td>\n",
       "      <td>True</td>\n",
       "      <td>2020-02-09 02:22:34.039000+00:00</td>\n",
       "      <td>2020-02-09 02:51:11.212000+00:00</td>\n",
       "      <td>1717</td>\n",
       "      <td>False</td>\n",
       "    </tr>\n",
       "    <tr>\n",
       "      <th>...</th>\n",
       "      <td>...</td>\n",
       "      <td>...</td>\n",
       "      <td>...</td>\n",
       "      <td>...</td>\n",
       "      <td>...</td>\n",
       "      <td>...</td>\n",
       "      <td>...</td>\n",
       "      <td>...</td>\n",
       "      <td>...</td>\n",
       "    </tr>\n",
       "    <tr>\n",
       "      <th>220</th>\n",
       "      <td>0</td>\n",
       "      <td>Calibration</td>\n",
       "      <td>-1</td>\n",
       "      <td>False</td>\n",
       "      <td>True</td>\n",
       "      <td>2020-02-23 21:06:03.834000+00:00</td>\n",
       "      <td>2020-02-23 21:06:41.436000+00:00</td>\n",
       "      <td>29</td>\n",
       "      <td>True</td>\n",
       "    </tr>\n",
       "    <tr>\n",
       "      <th>221</th>\n",
       "      <td>0</td>\n",
       "      <td>Calibration</td>\n",
       "      <td>-1</td>\n",
       "      <td>False</td>\n",
       "      <td>True</td>\n",
       "      <td>2020-02-23 21:08:25.213000+00:00</td>\n",
       "      <td>2020-02-23 21:08:30.847000+00:00</td>\n",
       "      <td>4</td>\n",
       "      <td>True</td>\n",
       "    </tr>\n",
       "    <tr>\n",
       "      <th>222</th>\n",
       "      <td>0</td>\n",
       "      <td>Calibration</td>\n",
       "      <td>-1</td>\n",
       "      <td>False</td>\n",
       "      <td>True</td>\n",
       "      <td>2020-02-23 21:18:17.111000+00:00</td>\n",
       "      <td>2020-02-23 21:19:37.022000+00:00</td>\n",
       "      <td>70</td>\n",
       "      <td>True</td>\n",
       "    </tr>\n",
       "    <tr>\n",
       "      <th>223</th>\n",
       "      <td>0</td>\n",
       "      <td>Calibration</td>\n",
       "      <td>-1</td>\n",
       "      <td>False</td>\n",
       "      <td>True</td>\n",
       "      <td>2020-02-23 21:27:59.139000+00:00</td>\n",
       "      <td>2020-02-23 21:29:59.235000+00:00</td>\n",
       "      <td>41</td>\n",
       "      <td>True</td>\n",
       "    </tr>\n",
       "    <tr>\n",
       "      <th>224</th>\n",
       "      <td>0</td>\n",
       "      <td>Calibration</td>\n",
       "      <td>-1</td>\n",
       "      <td>False</td>\n",
       "      <td>False</td>\n",
       "      <td>2020-02-23 21:39:22.358000+00:00</td>\n",
       "      <td>2020-02-23 22:35:53.999000+00:00</td>\n",
       "      <td>3391</td>\n",
       "      <td>False</td>\n",
       "    </tr>\n",
       "  </tbody>\n",
       "</table>\n",
       "<p>225 rows × 9 columns</p>\n",
       "</div>"
      ],
      "text/plain": [
       "     pauses               OBS.NAME     OBS.ID  ACK ABORT  Aborted  \\\n",
       "0         0  M05_HD18071_MED_SPLIT  200453530      False     True   \n",
       "1         0  M05_HD18071_MED_SPLIT  200453530      False     True   \n",
       "2         0  M05_HD18071_MED_SPLIT  200453530      False    False   \n",
       "3         0  M05_HD28625_MED_SPLIT  200454133      False    False   \n",
       "4         0  B02_HD62902_MED_SPLIT  200452405       True     True   \n",
       "..      ...                    ...        ...        ...      ...   \n",
       "220       0            Calibration         -1      False     True   \n",
       "221       0            Calibration         -1      False     True   \n",
       "222       0            Calibration         -1      False     True   \n",
       "223       0            Calibration         -1      False     True   \n",
       "224       0            Calibration         -1      False    False   \n",
       "\n",
       "                               START                              END  \\\n",
       "0   2020-02-09 00:11:11.199000+00:00 2020-02-09 00:12:29.870000+00:00   \n",
       "1   2020-02-09 00:13:35.005000+00:00 2020-02-09 00:13:46.716000+00:00   \n",
       "2   2020-02-09 00:23:48.533000+00:00 2020-02-09 00:46:42.482000+00:00   \n",
       "3   2020-02-09 00:52:23.640000+00:00 2020-02-09 01:05:07.438000+00:00   \n",
       "4   2020-02-09 02:22:34.039000+00:00 2020-02-09 02:51:11.212000+00:00   \n",
       "..                               ...                              ...   \n",
       "220 2020-02-23 21:06:03.834000+00:00 2020-02-23 21:06:41.436000+00:00   \n",
       "221 2020-02-23 21:08:25.213000+00:00 2020-02-23 21:08:30.847000+00:00   \n",
       "222 2020-02-23 21:18:17.111000+00:00 2020-02-23 21:19:37.022000+00:00   \n",
       "223 2020-02-23 21:27:59.139000+00:00 2020-02-23 21:29:59.235000+00:00   \n",
       "224 2020-02-23 21:39:22.358000+00:00 2020-02-23 22:35:53.999000+00:00   \n",
       "\n",
       "     Seconds  End_with_error  \n",
       "0         43            True  \n",
       "1          4            True  \n",
       "2       1374           False  \n",
       "3        764           False  \n",
       "4       1717           False  \n",
       "..       ...             ...  \n",
       "220       29            True  \n",
       "221        4            True  \n",
       "222       70            True  \n",
       "223       41            True  \n",
       "224     3391           False  \n",
       "\n",
       "[225 rows x 9 columns]"
      ]
     },
     "execution_count": 37,
     "metadata": {},
     "output_type": "execute_result"
    }
   ],
   "source": [
    "OBs"
   ]
  },
  {
   "cell_type": "markdown",
   "metadata": {},
   "source": [
    "## Getting the error documents"
   ]
  },
  {
   "cell_type": "code",
   "execution_count": 38,
   "metadata": {},
   "outputs": [],
   "source": [
    "docs = []\n",
    "for index, row in OBs.iterrows():\n",
    "    try:\n",
    "        errors = error_counting(\n",
    "            system = instr,\n",
    "            start = row['START'],\n",
    "            end = row['END'],\n",
    "            group_by_time = False,\n",
    "            group_keys = ['errkey']\n",
    "        )\n",
    "        errors_document = ' '.join(errors['errkey'].to_list())\n",
    "        docs.append(errors_document)\n",
    "    except EmptyElasticQuery:\n",
    "        continue\n",
    "    \n",
    "documents = pd.DataFrame(docs, columns = ['errors'])"
   ]
  },
  {
   "cell_type": "code",
   "execution_count": 40,
   "metadata": {},
   "outputs": [
    {
     "data": {
      "text/plain": [
       "(214, 1)"
      ]
     },
     "execution_count": 40,
     "metadata": {},
     "output_type": "execute_result"
    }
   ],
   "source": [
    "documents.shape"
   ]
  },
  {
   "cell_type": "code",
   "execution_count": 67,
   "metadata": {},
   "outputs": [],
   "source": [
    "processed_docs = documents['errors'].str.split()\n",
    "docs_train, docs_test = train_test_split(processed_docs, test_size=0.2)\n",
    "docs_train.reset_index(drop = True, inplace = True)\n",
    "docs_test.reset_index(drop = True, inplace = True)"
   ]
  },
  {
   "cell_type": "code",
   "execution_count": 68,
   "metadata": {},
   "outputs": [
    {
     "data": {
      "text/plain": [
       "0      [ccsERR_DB_INV_NAME, eccsERR_INFOATTR, eccsERR...\n",
       "1      [ccsERR_DB_INV_NAME, ccsERR_MSG_TIMEOUT, eccsE...\n",
       "2      [ccsERR_DB_INV_NAME, ccsERR_MSG_TIMEOUT, eccsE...\n",
       "3      [ccsERR_DB_INV_NAME, ccsERR_DB_QUALITY, eccsER...\n",
       "4      [ccsERR_DB_INV_NAME, eccsERR_INFOATTR, eccsERR...\n",
       "                             ...                        \n",
       "166    [evhERR_CMD_ERR_REPLY, gvmonERR_CMD_EXEC, gvmo...\n",
       "167       [ic0lcuERR_SEM_CMD_LOCKED, lcctooERR_SEM_TAKE]\n",
       "168    [ccsERR_DB_INV_NAME, eccsERR_INFOATTR, eccsERR...\n",
       "169    [ccsERR_DB_INV_NAME, eccsERR_INFOATTR, eccsERR...\n",
       "170    [bossERR_INVALID_STATE, bossERR_SETUP_FAILURE,...\n",
       "Name: errors, Length: 171, dtype: object"
      ]
     },
     "execution_count": 68,
     "metadata": {},
     "output_type": "execute_result"
    }
   ],
   "source": [
    "docs_train"
   ]
  },
  {
   "cell_type": "markdown",
   "metadata": {},
   "source": [
    "## Dictionary"
   ]
  },
  {
   "cell_type": "code",
   "execution_count": 69,
   "metadata": {},
   "outputs": [],
   "source": [
    "dictionary = Dictionary(processed_docs)"
   ]
  },
  {
   "cell_type": "code",
   "execution_count": 70,
   "metadata": {},
   "outputs": [
    {
     "name": "stdout",
     "output_type": "stream",
     "text": [
      "0 bossERR_INVALID_STATE\n",
      "1 bossERR_SETUP_FAILURE\n",
      "2 ccsERR_DB_INV_NAME\n",
      "3 eccsERR_INFOATTR\n",
      "4 eccsERR_NOASSIGN\n",
      "5 eccsERR_READATTR\n",
      "6 eccsERR_WRITEATTR\n",
      "7 evhERR_CMD_ERR_REPLY\n",
      "8 evhERR_ERROR_HANDLING\n",
      "9 ic0fbERR_GEN\n",
      "10 ic0lcuERR_SEM_CMD_LOCKED\n",
      "11 issprsERR_COMMAND_FAILED\n",
      "12 issprsERR_NOTALLOWED_IN_STATE\n",
      "13 issprsERR_WAIT_READY\n",
      "14 lccERR_INV_NAME\n",
      "15 lcctooERR_SEM_TAKE\n",
      "16 ccsERR_CMD_PARAM_RANGEVAL\n",
      "17 eccsERR_MSG\n",
      "18 seqERR_ADD\n",
      "19 seqERR_NO_EVT_HANDLE\n",
      "20 bossERR_EXP_EVT\n",
      "21 bossERR_GENERAL\n",
      "22 bossERR_PREP_ARCH\n",
      "23 ccsERR_DB_LCU\n",
      "24 ccsERR_DB_QUALITY\n",
      "25 ccsERR_MSG_TIMEOUT\n",
      "26 ccsERR_REMOTE_LINK\n",
      "27 ccsERR_SCAN_MSG_SEND\n",
      "28 gvoERR_ADD_FITS_KEYW\n",
      "29 gvoERR_FILE_DOES_NOT_EXIST\n",
      "30 lccERR_ACK\n",
      "31 lccERR_FULL\n",
      "32 lccERR_INTERNAL\n",
      "33 seqERR_DB_READ_SYMBOLIC\n",
      "34 ccsERR_PROC_INFO\n",
      "35 gvacqERR_READ_DBLIST\n",
      "36 gvdlERR_LCU_REPLY\n",
      "37 bossERR_EXP_ABORTED\n",
      "38 ipclERR_SEM_TIMEOUT\n",
      "39 ipclERR_SEM_WAIT\n",
      "40 seqERR_REPLY_TIMEOUT\n",
      "41 gvacqERR_RTDCORE_LIB\n",
      "42 gvttpERR_CONF_MAP\n",
      "43 dlabmonERR_TCPCLIENT_CONNECT\n",
      "44 gvmonERR_CMD_EXEC\n",
      "45 gvmonERR_WAIT_CMD_READY\n",
      "46 ic0ERR_INVALID_SUBSTATE\n",
      "47 ic0senERR_COM_TIMEOUT\n",
      "48 ic0senERR_COOLING\n",
      "49 bossERR_EXPEND\n",
      "50 bossERR_INTERFACE\n",
      "51 bossERR_SEND_FAILED\n",
      "52 bossERR_SUBSYSTEM_REPLY\n",
      "53 lccERR_NOT_FOUND\n",
      "54 bossERR_CMD_FAILED\n",
      "55 bossERR_EXPSTRT_FAILURE\n",
      "56 bossERR_START_PREPROC\n",
      "57 issifERR_READ_REMOTE\n",
      "58 rtdcoreERR_SOCKET_READ\n",
      "59 dlabmonERR_NOWDATE\n",
      "60 ic0fbERR_DEVICE_OP\n",
      "61 ic0ERR_GENERAL\n"
     ]
    }
   ],
   "source": [
    "for k, v in dictionary.iteritems():\n",
    "    print(k, v)"
   ]
  },
  {
   "cell_type": "code",
   "execution_count": 12,
   "metadata": {},
   "outputs": [],
   "source": [
    "#dictionary.filter_extremes(no_below=15, no_above=0.5, keep_n=100000)"
   ]
  },
  {
   "cell_type": "markdown",
   "metadata": {},
   "source": [
    "## Corpus"
   ]
  },
  {
   "cell_type": "code",
   "execution_count": 71,
   "metadata": {},
   "outputs": [],
   "source": [
    "bow_corpus = [dictionary.doc2bow(doc) for doc in docs_train]"
   ]
  },
  {
   "cell_type": "code",
   "execution_count": 72,
   "metadata": {},
   "outputs": [
    {
     "data": {
      "text/plain": [
       "[[(2, 1), (3, 1), (4, 1), (5, 1), (6, 1), (9, 1), (14, 1)],\n",
       " [(2, 1), (3, 1), (4, 1), (5, 1), (6, 1), (14, 1), (25, 1), (40, 1)],\n",
       " [(2, 1),\n",
       "  (3, 1),\n",
       "  (4, 1),\n",
       "  (5, 1),\n",
       "  (6, 1),\n",
       "  (10, 1),\n",
       "  (15, 1),\n",
       "  (25, 1),\n",
       "  (38, 1),\n",
       "  (39, 1),\n",
       "  (53, 1),\n",
       "  (58, 1)],\n",
       " [(2, 1), (3, 1), (4, 1), (5, 1), (6, 1), (8, 1), (14, 1), (24, 1), (36, 1)],\n",
       " [(2, 1), (3, 1), (4, 1), (5, 1), (6, 1), (53, 1)],\n",
       " [(9, 1), (10, 1), (15, 1)],\n",
       " [(2, 1), (3, 1), (4, 1), (5, 1), (6, 1), (10, 1), (14, 1), (15, 1)],\n",
       " [(2, 1), (3, 1), (4, 1), (5, 1), (6, 1), (10, 1), (14, 1), (15, 1)],\n",
       " [(2, 1), (3, 1), (4, 1), (5, 1), (6, 1), (10, 1), (14, 1), (15, 1), (40, 1)],\n",
       " [(2, 1), (3, 1), (4, 1), (5, 1), (6, 1), (25, 1), (53, 1)],\n",
       " [(10, 1), (15, 1), (34, 1), (35, 1)],\n",
       " [(2, 1), (3, 1), (4, 1), (5, 1), (6, 1), (14, 1)],\n",
       " [(0, 1), (1, 1), (2, 1), (3, 1), (4, 1), (5, 1), (6, 1), (14, 1)],\n",
       " [(2, 1), (3, 1), (4, 1), (5, 1), (6, 1), (9, 1), (14, 1)],\n",
       " [(0, 1),\n",
       "  (1, 1),\n",
       "  (2, 1),\n",
       "  (3, 1),\n",
       "  (4, 1),\n",
       "  (5, 1),\n",
       "  (6, 1),\n",
       "  (7, 1),\n",
       "  (8, 1),\n",
       "  (9, 1),\n",
       "  (10, 1),\n",
       "  (11, 1),\n",
       "  (12, 1),\n",
       "  (13, 1),\n",
       "  (14, 1),\n",
       "  (15, 1),\n",
       "  (18, 1)],\n",
       " [(2, 1), (3, 1), (4, 1), (5, 1), (6, 1), (14, 1)],\n",
       " [(36, 1)],\n",
       " [(2, 1),\n",
       "  (3, 1),\n",
       "  (4, 1),\n",
       "  (5, 1),\n",
       "  (6, 1),\n",
       "  (14, 1),\n",
       "  (20, 1),\n",
       "  (21, 1),\n",
       "  (22, 1),\n",
       "  (29, 1),\n",
       "  (47, 1),\n",
       "  (48, 1),\n",
       "  (49, 1),\n",
       "  (50, 1),\n",
       "  (51, 1),\n",
       "  (52, 1)],\n",
       " [(7, 1), (9, 1), (52, 1), (54, 1), (60, 1)],\n",
       " [(2, 1),\n",
       "  (3, 1),\n",
       "  (4, 1),\n",
       "  (5, 1),\n",
       "  (6, 1),\n",
       "  (10, 1),\n",
       "  (14, 1),\n",
       "  (15, 1),\n",
       "  (25, 1),\n",
       "  (38, 1),\n",
       "  (39, 1)],\n",
       " [(2, 1), (3, 1), (4, 1), (5, 1), (6, 1), (14, 1)],\n",
       " [(2, 1), (3, 1), (4, 1), (5, 1), (6, 1), (14, 1), (25, 1)],\n",
       " [(2, 1), (3, 1), (4, 1), (5, 1), (6, 1), (14, 1)],\n",
       " [(36, 1)],\n",
       " [(2, 1), (3, 1), (4, 1), (5, 1), (6, 1), (14, 1), (36, 1)],\n",
       " [(2, 1), (3, 1), (4, 1), (5, 1), (6, 1), (9, 1), (10, 1), (14, 1), (15, 1)],\n",
       " [(2, 1),\n",
       "  (3, 1),\n",
       "  (4, 1),\n",
       "  (5, 1),\n",
       "  (6, 1),\n",
       "  (10, 1),\n",
       "  (15, 1),\n",
       "  (38, 1),\n",
       "  (39, 1),\n",
       "  (53, 1)],\n",
       " [(2, 1), (3, 1), (4, 1), (5, 1), (6, 1), (8, 1), (14, 1), (37, 1)],\n",
       " [(2, 1), (3, 1), (4, 1), (5, 1), (6, 1), (14, 1)],\n",
       " [(9, 1), (10, 1), (15, 1)],\n",
       " [(36, 1)],\n",
       " [(2, 1), (3, 1), (4, 1), (5, 1), (6, 1), (10, 1), (14, 1), (15, 1), (40, 1)],\n",
       " [(2, 1), (3, 1), (4, 1), (5, 1), (6, 1), (14, 1), (25, 1)],\n",
       " [(10, 1), (15, 1), (18, 1)],\n",
       " [(10, 1), (15, 1)],\n",
       " [(2, 1),\n",
       "  (3, 1),\n",
       "  (4, 1),\n",
       "  (5, 1),\n",
       "  (6, 1),\n",
       "  (8, 1),\n",
       "  (10, 1),\n",
       "  (14, 1),\n",
       "  (15, 1),\n",
       "  (37, 1)],\n",
       " [(10, 1), (11, 1), (15, 1), (38, 1), (39, 1)],\n",
       " [(2, 1), (3, 1), (4, 1), (5, 1), (6, 1), (10, 1), (15, 1), (53, 1)],\n",
       " [(10, 1), (15, 1), (40, 1)],\n",
       " [(2, 1), (3, 1), (4, 1), (5, 1), (6, 1), (14, 1), (25, 1)],\n",
       " [(2, 1), (3, 1), (4, 1), (5, 1), (6, 1), (10, 1), (14, 1), (15, 1)],\n",
       " [(36, 1), (38, 1), (39, 1), (40, 1)],\n",
       " [(2, 1), (3, 1), (4, 1), (5, 1), (6, 1), (10, 1), (15, 1), (53, 1)],\n",
       " [(36, 1)],\n",
       " [(10, 1), (15, 1), (18, 1)],\n",
       " [(2, 1), (3, 1), (4, 1), (5, 1), (6, 1), (10, 1), (14, 1), (15, 1)],\n",
       " [(2, 1), (3, 1), (4, 1), (5, 1), (6, 1), (8, 1), (12, 1), (14, 1)],\n",
       " [(2, 1), (3, 1), (4, 1), (5, 1), (6, 1), (14, 1)],\n",
       " [(0, 1),\n",
       "  (1, 1),\n",
       "  (2, 1),\n",
       "  (3, 1),\n",
       "  (4, 1),\n",
       "  (5, 1),\n",
       "  (6, 1),\n",
       "  (7, 1),\n",
       "  (9, 1),\n",
       "  (10, 1),\n",
       "  (11, 1),\n",
       "  (13, 1),\n",
       "  (14, 1),\n",
       "  (15, 1)],\n",
       " [(36, 1)],\n",
       " [(2, 1), (3, 1), (4, 1), (5, 1), (6, 1), (10, 1), (14, 1), (15, 1)],\n",
       " [(10, 1), (15, 1), (34, 1), (35, 1)],\n",
       " [(2, 1), (3, 1), (4, 1), (5, 1), (6, 1), (14, 1), (40, 1)],\n",
       " [(2, 1), (3, 1), (4, 1), (5, 1), (6, 1), (14, 1)],\n",
       " [(2, 1), (3, 1), (4, 1), (5, 1), (6, 1), (14, 1)],\n",
       " [(0, 1), (1, 1)],\n",
       " [(2, 1), (3, 1), (4, 1), (5, 1), (6, 1), (9, 1), (14, 1)],\n",
       " [(2, 1), (3, 1), (4, 1), (5, 1), (6, 1), (14, 1), (25, 1)],\n",
       " [(2, 1), (3, 1), (4, 1), (5, 1), (6, 1), (14, 1)],\n",
       " [(2, 1), (3, 1), (4, 1), (5, 1), (6, 1), (14, 1), (36, 1)],\n",
       " [(2, 1), (3, 1), (4, 1), (5, 1), (6, 1), (14, 1)],\n",
       " [(2, 1), (3, 1), (4, 1), (5, 1), (6, 1), (14, 1)],\n",
       " [(2, 1), (3, 1), (4, 1), (5, 1), (6, 1), (9, 1), (14, 1)],\n",
       " [(10, 1), (15, 1)],\n",
       " [(36, 1)],\n",
       " [(2, 1), (3, 1), (4, 1), (5, 1), (6, 1), (14, 1)],\n",
       " [(36, 1)],\n",
       " [(2, 1), (3, 1), (4, 1), (5, 1), (6, 1), (14, 1), (36, 1), (43, 1)],\n",
       " [(2, 1), (3, 1), (4, 1), (5, 1), (6, 1), (8, 1), (9, 1), (12, 1), (14, 1)],\n",
       " [(7, 1), (9, 1), (34, 1), (52, 1), (54, 1), (60, 1), (61, 1)],\n",
       " [(2, 1), (3, 1), (4, 1), (5, 1), (6, 1), (14, 1), (47, 1), (48, 1)],\n",
       " [(2, 1), (3, 1), (4, 1), (5, 1), (6, 1), (8, 1), (9, 1), (12, 1), (14, 1)],\n",
       " [(2, 1), (3, 1), (4, 1), (5, 1), (6, 1), (8, 1), (14, 1), (37, 1)],\n",
       " [(2, 1), (3, 1), (4, 1), (5, 1), (6, 1), (14, 1), (40, 1)],\n",
       " [(10, 1), (11, 1), (15, 1)],\n",
       " [(2, 1),\n",
       "  (3, 1),\n",
       "  (4, 1),\n",
       "  (5, 1),\n",
       "  (6, 1),\n",
       "  (8, 1),\n",
       "  (10, 1),\n",
       "  (12, 1),\n",
       "  (14, 1),\n",
       "  (15, 1)],\n",
       " [(2, 1), (3, 1), (4, 1), (5, 1), (6, 1), (14, 1)],\n",
       " [(2, 1), (3, 1), (4, 1), (5, 1), (6, 1), (14, 1)],\n",
       " [(2, 1),\n",
       "  (3, 1),\n",
       "  (4, 1),\n",
       "  (5, 1),\n",
       "  (6, 1),\n",
       "  (10, 1),\n",
       "  (14, 1),\n",
       "  (15, 1),\n",
       "  (38, 1),\n",
       "  (39, 1)],\n",
       " [(36, 1)],\n",
       " [(2, 1), (3, 1), (4, 1), (5, 1), (6, 1), (10, 1), (14, 1), (15, 1)],\n",
       " [(10, 1), (15, 1)],\n",
       " [(36, 1)],\n",
       " [(2, 1),\n",
       "  (3, 1),\n",
       "  (4, 1),\n",
       "  (5, 1),\n",
       "  (6, 1),\n",
       "  (10, 1),\n",
       "  (14, 1),\n",
       "  (15, 1),\n",
       "  (38, 1),\n",
       "  (39, 1)],\n",
       " [(2, 1), (3, 1), (4, 1), (5, 1), (6, 1), (14, 1)],\n",
       " [(2, 1), (3, 1), (4, 1), (5, 1), (6, 1), (14, 1)],\n",
       " [(10, 1), (15, 1)],\n",
       " [(0, 1), (1, 1), (10, 1), (15, 1), (19, 1)],\n",
       " [(2, 1), (3, 1), (4, 1), (5, 1), (6, 1), (14, 1), (36, 1)],\n",
       " [(2, 1), (3, 1), (4, 1), (5, 1), (6, 1), (10, 1), (14, 1), (15, 1)],\n",
       " [(2, 1), (3, 1), (4, 1), (5, 1), (6, 1), (14, 1)],\n",
       " [(10, 1), (15, 1)],\n",
       " [(10, 1), (15, 1)],\n",
       " [(10, 1), (15, 1)],\n",
       " [(2, 1), (3, 1), (4, 1), (5, 1), (6, 1), (10, 1), (15, 1), (53, 1)],\n",
       " [(2, 1), (3, 1), (4, 1), (5, 1), (6, 1), (14, 1)],\n",
       " [(36, 1)],\n",
       " [(9, 1), (10, 1), (15, 1), (34, 1), (35, 1)],\n",
       " [(2, 1), (3, 1), (4, 1), (5, 1), (6, 1), (14, 1)],\n",
       " [(2, 1), (3, 1), (4, 1), (5, 1), (6, 1), (14, 1)],\n",
       " [(2, 1), (3, 1), (4, 1), (5, 1), (6, 1), (8, 1), (14, 1), (36, 1), (42, 1)],\n",
       " [],\n",
       " [(36, 1), (38, 1), (39, 1)],\n",
       " [(2, 1), (3, 1), (4, 1), (5, 1), (6, 1), (10, 1), (15, 1), (53, 1)],\n",
       " [(0, 1), (1, 1), (10, 1), (15, 1)],\n",
       " [(2, 1), (3, 1), (4, 1), (5, 1), (6, 1), (14, 1)],\n",
       " [(2, 1), (3, 1), (4, 1), (5, 1), (6, 1), (14, 1)],\n",
       " [(2, 1),\n",
       "  (3, 1),\n",
       "  (4, 1),\n",
       "  (5, 1),\n",
       "  (6, 1),\n",
       "  (10, 1),\n",
       "  (14, 1),\n",
       "  (15, 1),\n",
       "  (25, 1),\n",
       "  (40, 1)],\n",
       " [(2, 1), (3, 1), (4, 1), (5, 1), (6, 1), (10, 1), (15, 1), (53, 1)],\n",
       " [(2, 1), (3, 1), (4, 1), (5, 1), (6, 1), (14, 1)],\n",
       " [(0, 1), (1, 1)],\n",
       " [(9, 1), (34, 1), (35, 1), (36, 1)],\n",
       " [(10, 1), (11, 1), (15, 1), (38, 1), (39, 1)],\n",
       " [(2, 1), (3, 1), (4, 1), (5, 1), (6, 1), (14, 1), (38, 1), (39, 1), (41, 1)],\n",
       " [(2, 1), (3, 1), (4, 1), (5, 1), (6, 1), (14, 1), (36, 1), (40, 1)],\n",
       " [(2, 1), (3, 1), (4, 1), (5, 1), (6, 1), (14, 1), (36, 1), (47, 1), (48, 1)],\n",
       " [(2, 1), (3, 1), (4, 1), (5, 1), (6, 1), (10, 1), (14, 1), (15, 1), (18, 1)],\n",
       " [(7, 1), (9, 1), (52, 1), (54, 1), (60, 1)],\n",
       " [(2, 1),\n",
       "  (3, 1),\n",
       "  (4, 1),\n",
       "  (5, 1),\n",
       "  (6, 1),\n",
       "  (14, 1),\n",
       "  (25, 1),\n",
       "  (38, 1),\n",
       "  (39, 1),\n",
       "  (47, 1),\n",
       "  (48, 1)],\n",
       " [(2, 1), (3, 1), (4, 1), (5, 1), (6, 1), (36, 1), (53, 1)],\n",
       " [(2, 1), (3, 1), (4, 1), (5, 1), (6, 1), (14, 1)],\n",
       " [(9, 1), (10, 1), (15, 1), (18, 1)],\n",
       " [(2, 1), (3, 1), (4, 1), (5, 1), (6, 1), (8, 1), (14, 1), (37, 1)],\n",
       " [(10, 1), (15, 1)],\n",
       " [(2, 1), (3, 1), (4, 1), (5, 1), (6, 1), (14, 1), (24, 1), (36, 1)],\n",
       " [(2, 1), (3, 1), (4, 1), (5, 1), (6, 1), (14, 1)],\n",
       " [(2, 1), (3, 1), (4, 1), (5, 1), (6, 1), (10, 1), (14, 1), (15, 1)],\n",
       " [(7, 1), (9, 1), (25, 1), (36, 1), (52, 1), (54, 1), (60, 1)],\n",
       " [(2, 1),\n",
       "  (3, 1),\n",
       "  (4, 1),\n",
       "  (5, 1),\n",
       "  (6, 1),\n",
       "  (14, 1),\n",
       "  (21, 1),\n",
       "  (24, 1),\n",
       "  (54, 1),\n",
       "  (55, 1),\n",
       "  (56, 1),\n",
       "  (57, 1)],\n",
       " [(2, 1), (3, 1), (4, 1), (5, 1), (6, 1), (14, 1)],\n",
       " [(8, 1), (9, 1), (42, 1)],\n",
       " [(2, 1), (3, 1), (4, 1), (5, 1), (6, 1), (10, 1), (14, 1), (15, 1)],\n",
       " [(2, 1), (3, 1), (4, 1), (5, 1), (6, 1), (36, 1), (53, 1)],\n",
       " [(2, 1),\n",
       "  (3, 1),\n",
       "  (4, 1),\n",
       "  (5, 1),\n",
       "  (6, 1),\n",
       "  (10, 1),\n",
       "  (14, 1),\n",
       "  (15, 1),\n",
       "  (38, 1),\n",
       "  (39, 1)],\n",
       " [(2, 1), (3, 1), (4, 1), (5, 1), (6, 1), (10, 1), (14, 1), (15, 1), (40, 1)],\n",
       " [(36, 1), (40, 1)],\n",
       " [(2, 1), (3, 1), (4, 1), (5, 1), (6, 1), (10, 1), (14, 1), (15, 1)],\n",
       " [(9, 1), (10, 1), (15, 1), (18, 1)],\n",
       " [(10, 1), (15, 1)],\n",
       " [(2, 1), (3, 1), (4, 1), (5, 1), (6, 1), (14, 1), (36, 1)],\n",
       " [(2, 1),\n",
       "  (3, 1),\n",
       "  (4, 1),\n",
       "  (5, 1),\n",
       "  (6, 1),\n",
       "  (10, 1),\n",
       "  (14, 1),\n",
       "  (15, 1),\n",
       "  (38, 1),\n",
       "  (39, 1)],\n",
       " [(7, 1), (9, 1), (34, 1), (52, 1), (54, 1), (60, 1), (61, 1)],\n",
       " [(2, 1), (3, 1), (4, 1), (5, 1), (6, 1), (14, 1), (16, 1), (17, 1)],\n",
       " [(0, 1),\n",
       "  (1, 1),\n",
       "  (2, 1),\n",
       "  (3, 1),\n",
       "  (4, 1),\n",
       "  (5, 1),\n",
       "  (6, 1),\n",
       "  (7, 1),\n",
       "  (9, 1),\n",
       "  (10, 1),\n",
       "  (11, 1),\n",
       "  (13, 1),\n",
       "  (14, 1),\n",
       "  (15, 1)],\n",
       " [(2, 1), (3, 1), (4, 1), (5, 1), (6, 1), (25, 1), (36, 1), (53, 1)],\n",
       " [(36, 1)],\n",
       " [(10, 1), (15, 1), (34, 1), (35, 1)],\n",
       " [],\n",
       " [(2, 1), (3, 1), (4, 1), (5, 1), (6, 1), (14, 1), (38, 1), (39, 1)],\n",
       " [(2, 1), (3, 1), (4, 1), (5, 1), (6, 1), (14, 1)],\n",
       " [(2, 1), (3, 1), (4, 1), (5, 1), (6, 1), (14, 1), (25, 1)],\n",
       " [(2, 1), (3, 1), (4, 1), (5, 1), (6, 1), (9, 1), (10, 1), (14, 1), (15, 1)],\n",
       " [(2, 1), (3, 1), (4, 1), (5, 1), (6, 1), (9, 1), (10, 1), (14, 1), (15, 1)],\n",
       " [(10, 1), (15, 1)],\n",
       " [(9, 1), (10, 1), (15, 1), (40, 1)],\n",
       " [(2, 1), (3, 1), (4, 1), (5, 1), (6, 1), (14, 1), (25, 1)],\n",
       " [(2, 1), (3, 1), (4, 1), (5, 1), (6, 1), (9, 1), (14, 1)],\n",
       " [(2, 1), (3, 1), (4, 1), (5, 1), (6, 1), (8, 1), (12, 1), (14, 1)],\n",
       " [(36, 1), (38, 1), (39, 1), (43, 1)],\n",
       " [(2, 1), (3, 1), (4, 1), (5, 1), (6, 1), (10, 1), (14, 1), (15, 1), (25, 1)],\n",
       " [(2, 1), (3, 1), (4, 1), (5, 1), (6, 1), (14, 1), (34, 1), (35, 1)],\n",
       " [(2, 1), (3, 1), (4, 1), (5, 1), (6, 1), (14, 1)],\n",
       " [(36, 1)],\n",
       " [(9, 1)],\n",
       " [(2, 1), (3, 1), (4, 1), (5, 1), (6, 1), (14, 1)],\n",
       " [(36, 1)],\n",
       " [(7, 1), (44, 1), (45, 1), (46, 1)],\n",
       " [(10, 1), (15, 1)],\n",
       " [(2, 1), (3, 1), (4, 1), (5, 1), (6, 1), (14, 1)],\n",
       " [(2, 1), (3, 1), (4, 1), (5, 1), (6, 1), (14, 1), (36, 1)],\n",
       " [(0, 1),\n",
       "  (1, 1),\n",
       "  (2, 1),\n",
       "  (3, 1),\n",
       "  (4, 1),\n",
       "  (5, 1),\n",
       "  (6, 1),\n",
       "  (7, 1),\n",
       "  (9, 1),\n",
       "  (10, 1),\n",
       "  (11, 1),\n",
       "  (13, 1),\n",
       "  (14, 1),\n",
       "  (15, 1)]]"
      ]
     },
     "execution_count": 72,
     "metadata": {},
     "output_type": "execute_result"
    }
   ],
   "source": [
    "bow_corpus"
   ]
  },
  {
   "cell_type": "code",
   "execution_count": 73,
   "metadata": {},
   "outputs": [],
   "source": [
    "tfidf = TfidfModel(bow_corpus)"
   ]
  },
  {
   "cell_type": "code",
   "execution_count": 74,
   "metadata": {},
   "outputs": [],
   "source": [
    "corpus_tfidf = tfidf[bow_corpus]"
   ]
  },
  {
   "cell_type": "markdown",
   "metadata": {},
   "source": [
    "## LDA using Bag of words"
   ]
  },
  {
   "cell_type": "markdown",
   "metadata": {},
   "source": [
    "### Training"
   ]
  },
  {
   "cell_type": "code",
   "execution_count": 86,
   "metadata": {},
   "outputs": [],
   "source": [
    "lda_model = LdaMulticore(bow_corpus, num_topics = 5, id2word = dictionary, passes=2, workers=2)"
   ]
  },
  {
   "cell_type": "code",
   "execution_count": 87,
   "metadata": {},
   "outputs": [
    {
     "name": "stdout",
     "output_type": "stream",
     "text": [
      "Topic: 0 \n",
      "Words: 0.174*\"lcctooERR_SEM_TAKE\" + 0.174*\"ic0lcuERR_SEM_CMD_LOCKED\" + 0.062*\"eccsERR_READATTR\" + 0.062*\"eccsERR_WRITEATTR\" + 0.062*\"eccsERR_NOASSIGN\" + 0.061*\"ccsERR_DB_INV_NAME\" + 0.061*\"eccsERR_INFOATTR\" + 0.041*\"lccERR_NOT_FOUND\" + 0.034*\"seqERR_ADD\" + 0.031*\"evhERR_ERROR_HANDLING\"/n\n",
      "Topic: 1 \n",
      "Words: 0.093*\"ic0fbERR_GEN\" + 0.066*\"ic0lcuERR_SEM_CMD_LOCKED\" + 0.065*\"lcctooERR_SEM_TAKE\" + 0.061*\"evhERR_CMD_ERR_REPLY\" + 0.053*\"bossERR_INVALID_STATE\" + 0.052*\"bossERR_SETUP_FAILURE\" + 0.047*\"ccsERR_PROC_INFO\" + 0.042*\"lccERR_INV_NAME\" + 0.042*\"eccsERR_WRITEATTR\" + 0.042*\"ccsERR_DB_INV_NAME\"/n\n",
      "Topic: 2 \n",
      "Words: 0.125*\"eccsERR_NOASSIGN\" + 0.125*\"eccsERR_INFOATTR\" + 0.125*\"ccsERR_DB_INV_NAME\" + 0.124*\"eccsERR_READATTR\" + 0.124*\"eccsERR_WRITEATTR\" + 0.115*\"lccERR_INV_NAME\" + 0.053*\"gvdlERR_LCU_REPLY\" + 0.041*\"lcctooERR_SEM_TAKE\" + 0.041*\"ic0lcuERR_SEM_CMD_LOCKED\" + 0.022*\"seqERR_REPLY_TIMEOUT\"/n\n",
      "Topic: 3 \n",
      "Words: 0.082*\"ipclERR_SEM_TIMEOUT\" + 0.081*\"ipclERR_SEM_WAIT\" + 0.069*\"ccsERR_DB_INV_NAME\" + 0.069*\"eccsERR_INFOATTR\" + 0.066*\"eccsERR_READATTR\" + 0.066*\"eccsERR_WRITEATTR\" + 0.066*\"eccsERR_NOASSIGN\" + 0.064*\"ccsERR_MSG_TIMEOUT\" + 0.061*\"lccERR_INV_NAME\" + 0.059*\"ic0lcuERR_SEM_CMD_LOCKED\"/n\n",
      "Topic: 4 \n",
      "Words: 0.129*\"lccERR_INV_NAME\" + 0.127*\"eccsERR_WRITEATTR\" + 0.127*\"eccsERR_READATTR\" + 0.127*\"eccsERR_INFOATTR\" + 0.127*\"eccsERR_NOASSIGN\" + 0.127*\"ccsERR_DB_INV_NAME\" + 0.039*\"evhERR_ERROR_HANDLING\" + 0.021*\"ic0senERR_COM_TIMEOUT\" + 0.021*\"ic0senERR_COOLING\" + 0.021*\"issprsERR_NOTALLOWED_IN_STATE\"/n\n"
     ]
    }
   ],
   "source": [
    "for idx, topic in lda_model.print_topics(-1):\n",
    "    print('Topic: {} \\nWords: {}/n'.format(idx, topic))"
   ]
  },
  {
   "cell_type": "markdown",
   "metadata": {},
   "source": [
    "### Evaluation"
   ]
  },
  {
   "cell_type": "code",
   "execution_count": 88,
   "metadata": {},
   "outputs": [
    {
     "name": "stdout",
     "output_type": "stream",
     "text": [
      "['ccsERR_PROC_INFO', 'gvacqERR_READ_DBLIST', 'ic0lcuERR_SEM_CMD_LOCKED', 'lcctooERR_SEM_TAKE']\n",
      "\n",
      "Score: 0.8372372984886169\t \n",
      "Topic: 0.093*\"ic0fbERR_GEN\" + 0.066*\"ic0lcuERR_SEM_CMD_LOCKED\" + 0.065*\"lcctooERR_SEM_TAKE\" + 0.061*\"evhERR_CMD_ERR_REPLY\" + 0.053*\"bossERR_INVALID_STATE\" + 0.052*\"bossERR_SETUP_FAILURE\" + 0.047*\"ccsERR_PROC_INFO\" + 0.042*\"lccERR_INV_NAME\" + 0.042*\"eccsERR_WRITEATTR\" + 0.042*\"ccsERR_DB_INV_NAME\"\n",
      "\n",
      "Score: 0.04193763807415962\t \n",
      "Topic: 0.174*\"lcctooERR_SEM_TAKE\" + 0.174*\"ic0lcuERR_SEM_CMD_LOCKED\" + 0.062*\"eccsERR_READATTR\" + 0.062*\"eccsERR_WRITEATTR\" + 0.062*\"eccsERR_NOASSIGN\" + 0.061*\"ccsERR_DB_INV_NAME\" + 0.061*\"eccsERR_INFOATTR\" + 0.041*\"lccERR_NOT_FOUND\" + 0.034*\"seqERR_ADD\" + 0.031*\"evhERR_ERROR_HANDLING\"\n",
      "\n",
      "Score: 0.040440674871206284\t \n",
      "Topic: 0.082*\"ipclERR_SEM_TIMEOUT\" + 0.081*\"ipclERR_SEM_WAIT\" + 0.069*\"ccsERR_DB_INV_NAME\" + 0.069*\"eccsERR_INFOATTR\" + 0.066*\"eccsERR_READATTR\" + 0.066*\"eccsERR_WRITEATTR\" + 0.066*\"eccsERR_NOASSIGN\" + 0.064*\"ccsERR_MSG_TIMEOUT\" + 0.061*\"lccERR_INV_NAME\" + 0.059*\"ic0lcuERR_SEM_CMD_LOCKED\"\n",
      "\n",
      "Score: 0.040383465588092804\t \n",
      "Topic: 0.125*\"eccsERR_NOASSIGN\" + 0.125*\"eccsERR_INFOATTR\" + 0.125*\"ccsERR_DB_INV_NAME\" + 0.124*\"eccsERR_READATTR\" + 0.124*\"eccsERR_WRITEATTR\" + 0.115*\"lccERR_INV_NAME\" + 0.053*\"gvdlERR_LCU_REPLY\" + 0.041*\"lcctooERR_SEM_TAKE\" + 0.041*\"ic0lcuERR_SEM_CMD_LOCKED\" + 0.022*\"seqERR_REPLY_TIMEOUT\"\n",
      "\n",
      "Score: 0.04000094160437584\t \n",
      "Topic: 0.129*\"lccERR_INV_NAME\" + 0.127*\"eccsERR_WRITEATTR\" + 0.127*\"eccsERR_READATTR\" + 0.127*\"eccsERR_INFOATTR\" + 0.127*\"eccsERR_NOASSIGN\" + 0.127*\"ccsERR_DB_INV_NAME\" + 0.039*\"evhERR_ERROR_HANDLING\" + 0.021*\"ic0senERR_COM_TIMEOUT\" + 0.021*\"ic0senERR_COOLING\" + 0.021*\"issprsERR_NOTALLOWED_IN_STATE\"\n"
     ]
    }
   ],
   "source": [
    "doc_to_eval = 10\n",
    "print(docs_train[doc_to_eval])\n",
    "for index, score in sorted(lda_model[bow_corpus[doc_to_eval]], key=lambda tup: -1*tup[1]):\n",
    "    print(f\"\\nScore: {score}\\t \\nTopic: {lda_model.print_topic(index, 10)}\")"
   ]
  },
  {
   "cell_type": "markdown",
   "metadata": {},
   "source": [
    "### Testing"
   ]
  },
  {
   "cell_type": "code",
   "execution_count": 89,
   "metadata": {},
   "outputs": [
    {
     "name": "stdout",
     "output_type": "stream",
     "text": [
      "Score: 0.5622594952583313\t Topic: 0.082*\"ipclERR_SEM_TIMEOUT\" + 0.081*\"ipclERR_SEM_WAIT\" + 0.069*\"ccsERR_DB_INV_NAME\" + 0.069*\"eccsERR_INFOATTR\" + 0.066*\"eccsERR_READATTR\"\n",
      "\n",
      "Score: 0.41174831986427307\t Topic: 0.129*\"lccERR_INV_NAME\" + 0.127*\"eccsERR_WRITEATTR\" + 0.127*\"eccsERR_READATTR\" + 0.127*\"eccsERR_INFOATTR\" + 0.127*\"eccsERR_NOASSIGN\"\n",
      "\n"
     ]
    }
   ],
   "source": [
    "doc_to_test = 10\n",
    "bow_vector = dictionary.doc2bow(docs_test[doc_to_test])\n",
    "for index, score in sorted(lda_model[bow_vector], key=lambda tup: -1*tup[1]):\n",
    "    print(\"Score: {}\\t Topic: {}\\n\".format(score, lda_model.print_topic(index, 5)))"
   ]
  },
  {
   "cell_type": "markdown",
   "metadata": {},
   "source": [
    "## LDA using TF-IDF"
   ]
  },
  {
   "cell_type": "markdown",
   "metadata": {},
   "source": [
    "### Training"
   ]
  },
  {
   "cell_type": "code",
   "execution_count": 79,
   "metadata": {},
   "outputs": [],
   "source": [
    "lda_model_tfidf = LdaMulticore(corpus_tfidf, num_topics=5, id2word = dictionary, passes=2, workers=4)"
   ]
  },
  {
   "cell_type": "code",
   "execution_count": 81,
   "metadata": {},
   "outputs": [
    {
     "name": "stdout",
     "output_type": "stream",
     "text": [
      "Topic: 0 Word: 0.081*\"bossERR_INVALID_STATE\" + 0.081*\"bossERR_SETUP_FAILURE\" + 0.067*\"issprsERR_COMMAND_FAILED\" + 0.045*\"evhERR_CMD_ERR_REPLY\" + 0.033*\"issprsERR_WAIT_READY\" + 0.032*\"ic0senERR_COOLING\" + 0.032*\"ic0senERR_COM_TIMEOUT\" + 0.030*\"lcctooERR_SEM_TAKE\" + 0.030*\"ic0lcuERR_SEM_CMD_LOCKED\" + 0.029*\"ic0fbERR_GEN\"\n",
      "\n",
      "Topic: 1 Word: 0.119*\"lccERR_INV_NAME\" + 0.096*\"eccsERR_INFOATTR\" + 0.096*\"eccsERR_WRITEATTR\" + 0.096*\"ccsERR_DB_INV_NAME\" + 0.096*\"eccsERR_READATTR\" + 0.095*\"eccsERR_NOASSIGN\" + 0.063*\"ccsERR_MSG_TIMEOUT\" + 0.057*\"seqERR_REPLY_TIMEOUT\" + 0.040*\"ipclERR_SEM_WAIT\" + 0.040*\"ipclERR_SEM_TIMEOUT\"\n",
      "\n",
      "Topic: 2 Word: 0.207*\"ic0lcuERR_SEM_CMD_LOCKED\" + 0.207*\"lcctooERR_SEM_TAKE\" + 0.054*\"lccERR_NOT_FOUND\" + 0.051*\"gvdlERR_LCU_REPLY\" + 0.045*\"lccERR_INV_NAME\" + 0.044*\"eccsERR_READATTR\" + 0.044*\"eccsERR_WRITEATTR\" + 0.044*\"ccsERR_DB_INV_NAME\" + 0.044*\"eccsERR_NOASSIGN\" + 0.044*\"eccsERR_INFOATTR\"\n",
      "\n",
      "Topic: 3 Word: 0.140*\"ic0fbERR_GEN\" + 0.062*\"evhERR_ERROR_HANDLING\" + 0.060*\"lccERR_INV_NAME\" + 0.049*\"eccsERR_INFOATTR\" + 0.049*\"ccsERR_DB_INV_NAME\" + 0.049*\"eccsERR_WRITEATTR\" + 0.049*\"eccsERR_NOASSIGN\" + 0.049*\"eccsERR_READATTR\" + 0.045*\"seqERR_ADD\" + 0.041*\"issprsERR_NOTALLOWED_IN_STATE\"\n",
      "\n",
      "Topic: 4 Word: 0.275*\"gvdlERR_LCU_REPLY\" + 0.051*\"lccERR_NOT_FOUND\" + 0.044*\"lccERR_INV_NAME\" + 0.043*\"eccsERR_NOASSIGN\" + 0.043*\"eccsERR_READATTR\" + 0.043*\"eccsERR_INFOATTR\" + 0.043*\"eccsERR_WRITEATTR\" + 0.043*\"ccsERR_DB_INV_NAME\" + 0.036*\"seqERR_REPLY_TIMEOUT\" + 0.029*\"gvttpERR_CONF_MAP\"\n",
      "\n"
     ]
    }
   ],
   "source": [
    "for idx, topic in lda_model_tfidf.print_topics(-1):\n",
    "    print('Topic: {} Word: {}\\n'.format(idx, topic))"
   ]
  },
  {
   "cell_type": "markdown",
   "metadata": {},
   "source": [
    "### Evaluation"
   ]
  },
  {
   "cell_type": "code",
   "execution_count": 83,
   "metadata": {},
   "outputs": [
    {
     "name": "stdout",
     "output_type": "stream",
     "text": [
      "['ccsERR_PROC_INFO', 'gvacqERR_READ_DBLIST', 'ic0lcuERR_SEM_CMD_LOCKED', 'lcctooERR_SEM_TAKE']\n",
      "\n",
      "Score: 0.8390069603919983\t \n",
      "Topic: 0.282*\"gvdlERR_LCU_REPLY\" + 0.072*\"bossERR_CMD_FAILED\" + 0.052*\"bossERR_SUBSYSTEM_REPLY\" + 0.052*\"ic0fbERR_DEVICE_OP\" + 0.052*\"ic0fbERR_GEN\" + 0.052*\"evhERR_CMD_ERR_REPLY\" + 0.034*\"ccsERR_DB_QUALITY\" + 0.024*\"ccsERR_MSG_TIMEOUT\" + 0.024*\"bossERR_START_PREPROC\" + 0.024*\"issifERR_READ_REMOTE\"\n",
      "\n",
      "Score: 0.04080135002732277\t \n",
      "Topic: 0.120*\"ccsERR_PROC_INFO\" + 0.096*\"ic0lcuERR_SEM_CMD_LOCKED\" + 0.096*\"lcctooERR_SEM_TAKE\" + 0.092*\"gvacqERR_READ_DBLIST\" + 0.052*\"ic0fbERR_GEN\" + 0.041*\"ipclERR_SEM_WAIT\" + 0.041*\"ipclERR_SEM_TIMEOUT\" + 0.032*\"issprsERR_COMMAND_FAILED\" + 0.031*\"bossERR_SUBSYSTEM_REPLY\" + 0.031*\"ic0ERR_GENERAL\"\n",
      "\n",
      "Score: 0.04010041803121567\t \n",
      "Topic: 0.131*\"eccsERR_NOASSIGN\" + 0.131*\"eccsERR_INFOATTR\" + 0.131*\"eccsERR_READATTR\" + 0.131*\"ccsERR_DB_INV_NAME\" + 0.131*\"eccsERR_WRITEATTR\" + 0.116*\"lccERR_INV_NAME\" + 0.039*\"lcctooERR_SEM_TAKE\" + 0.039*\"ic0lcuERR_SEM_CMD_LOCKED\" + 0.018*\"ccsERR_MSG_TIMEOUT\" + 0.015*\"lccERR_NOT_FOUND\"\n",
      "\n",
      "Score: 0.04006349295377731\t \n",
      "Topic: 0.073*\"eccsERR_WRITEATTR\" + 0.072*\"eccsERR_READATTR\" + 0.072*\"ccsERR_DB_INV_NAME\" + 0.072*\"eccsERR_INFOATTR\" + 0.071*\"lccERR_INV_NAME\" + 0.071*\"eccsERR_NOASSIGN\" + 0.046*\"gvdlERR_LCU_REPLY\" + 0.044*\"ic0fbERR_GEN\" + 0.040*\"evhERR_ERROR_HANDLING\" + 0.038*\"ic0lcuERR_SEM_CMD_LOCKED\"\n",
      "\n",
      "Score: 0.04002775996923447\t \n",
      "Topic: 0.259*\"lcctooERR_SEM_TAKE\" + 0.258*\"ic0lcuERR_SEM_CMD_LOCKED\" + 0.100*\"ic0fbERR_GEN\" + 0.049*\"seqERR_ADD\" + 0.042*\"bossERR_SETUP_FAILURE\" + 0.042*\"bossERR_INVALID_STATE\" + 0.031*\"seqERR_REPLY_TIMEOUT\" + 0.016*\"evhERR_CMD_ERR_REPLY\" + 0.013*\"gvttpERR_CONF_MAP\" + 0.013*\"evhERR_ERROR_HANDLING\"\n"
     ]
    }
   ],
   "source": [
    "doc_to_eval = 10\n",
    "print(docs_train[doc_to_eval])\n",
    "for index, score in sorted(lda_model_tfidf[bow_corpus[doc_to_eval]], key=lambda tup: -1*tup[1]):\n",
    "    print(f\"\\nScore: {score}\\t \\nTopic: {lda_model.print_topic(index, 10)}\")"
   ]
  },
  {
   "cell_type": "markdown",
   "metadata": {},
   "source": [
    "### Testing"
   ]
  },
  {
   "cell_type": "code",
   "execution_count": 91,
   "metadata": {},
   "outputs": [
    {
     "name": "stdout",
     "output_type": "stream",
     "text": [
      "Score: 0.5379564166069031\t Topic: 0.129*\"lccERR_INV_NAME\" + 0.127*\"eccsERR_WRITEATTR\" + 0.127*\"eccsERR_READATTR\" + 0.127*\"eccsERR_INFOATTR\" + 0.127*\"eccsERR_NOASSIGN\"\n",
      "\n",
      "Score: 0.21034331619739532\t Topic: 0.093*\"ic0fbERR_GEN\" + 0.066*\"ic0lcuERR_SEM_CMD_LOCKED\" + 0.065*\"lcctooERR_SEM_TAKE\" + 0.061*\"evhERR_CMD_ERR_REPLY\" + 0.053*\"bossERR_INVALID_STATE\"\n",
      "\n",
      "Score: 0.14819219708442688\t Topic: 0.082*\"ipclERR_SEM_TIMEOUT\" + 0.081*\"ipclERR_SEM_WAIT\" + 0.069*\"ccsERR_DB_INV_NAME\" + 0.069*\"eccsERR_INFOATTR\" + 0.066*\"eccsERR_READATTR\"\n",
      "\n",
      "Score: 0.09489299356937408\t Topic: 0.125*\"eccsERR_NOASSIGN\" + 0.125*\"eccsERR_INFOATTR\" + 0.125*\"ccsERR_DB_INV_NAME\" + 0.124*\"eccsERR_READATTR\" + 0.124*\"eccsERR_WRITEATTR\"\n",
      "\n"
     ]
    }
   ],
   "source": [
    "doc_to_test = 10\n",
    "bow_vector = dictionary.doc2bow(docs_test[doc_to_test])\n",
    "for index, score in sorted(lda_model_tfidf[bow_vector], key=lambda tup: -1*tup[1]):\n",
    "    print(\"Score: {}\\t Topic: {}\\n\".format(score, lda_model.print_topic(index, 5)))"
   ]
  },
  {
   "cell_type": "code",
   "execution_count": null,
   "metadata": {},
   "outputs": [],
   "source": []
  }
 ],
 "metadata": {
  "kernelspec": {
   "display_name": "Python 3",
   "language": "python",
   "name": "python3"
  },
  "language_info": {
   "codemirror_mode": {
    "name": "ipython",
    "version": 3
   },
   "file_extension": ".py",
   "mimetype": "text/x-python",
   "name": "python",
   "nbconvert_exporter": "python",
   "pygments_lexer": "ipython3",
   "version": "3.6.7"
  }
 },
 "nbformat": 4,
 "nbformat_minor": 2
}
